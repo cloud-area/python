{
 "cells": [
  {
   "cell_type": "markdown",
   "id": "69a5258a",
   "metadata": {},
   "source": [
    "# 上下标"
   ]
  },
  {
   "cell_type": "markdown",
   "id": "9a4ba449",
   "metadata": {},
   "source": [
    "^ 表示上标， _ 表示下标，如果上标或下标内容多于一个字符，则使用 {} 括起来。"
   ]
  },
  {
   "cell_type": "markdown",
   "id": "e77fd88b",
   "metadata": {},
   "source": [
    "`$(x^2 + x^y )^{x^y}+ x_1^2= y_1 - y_2^{x_1-y_1^2}$`"
   ]
  },
  {
   "cell_type": "markdown",
   "id": "bacf9b7c",
   "metadata": {},
   "source": [
    "$$(x^2 + x^y )^{x^y}+ x_1^2= y_1 - y_2^{x_1-y_1^2}$$"
   ]
  },
  {
   "cell_type": "markdown",
   "id": "1caaae41",
   "metadata": {},
   "source": [
    "# 分数"
   ]
  },
  {
   "cell_type": "markdown",
   "id": "c8b41ffa",
   "metadata": {},
   "source": [
    "公式 \\frac{分子}{分母}，或 分子 \\over 分母"
   ]
  },
  {
   "cell_type": "markdown",
   "id": "dc9529f4",
   "metadata": {},
   "source": [
    "`$ \\frac{1-x}{y+1}$`"
   ]
  },
  {
   "cell_type": "markdown",
   "id": "ad970f44",
   "metadata": {},
   "source": [
    "$$ \\frac{1-x}{y+1}$$"
   ]
  },
  {
   "cell_type": "markdown",
   "id": "dfa77009",
   "metadata": {},
   "source": [
    "或`$x \\over x+y$`"
   ]
  },
  {
   "cell_type": "markdown",
   "id": "4367d013",
   "metadata": {},
   "source": [
    "$$x \\over x+y$$"
   ]
  },
  {
   "cell_type": "markdown",
   "id": "2a873fd6",
   "metadata": {},
   "source": [
    "# 开方"
   ]
  },
  {
   "cell_type": "markdown",
   "id": "b6bf174a",
   "metadata": {},
   "source": [
    "公式\\sqrt[n]{a}"
   ]
  },
  {
   "cell_type": "markdown",
   "id": "f5738ce8",
   "metadata": {},
   "source": [
    "`$\\sqrt[3]{4}$ 或 $\\sqrt{9}$`"
   ]
  },
  {
   "cell_type": "markdown",
   "id": "856c86ce",
   "metadata": {},
   "source": [
    "$$\\sqrt[3]{4}$$ 或 $$\\sqrt{9}$$"
   ]
  },
  {
   "cell_type": "markdown",
   "id": "12de8a1f",
   "metadata": {},
   "source": [
    "# 括号"
   ]
  },
  {
   "cell_type": "markdown",
   "id": "8bb51c84",
   "metadata": {},
   "source": [
    "**1.** () [] 直接写就行，而 {} 则需要转义。"
   ]
  },
  {
   "cell_type": "markdown",
   "id": "3c8d5981",
   "metadata": {},
   "source": [
    "`$f(x, y) = x^2 + y^2, x \\epsilon [0, 100], y \\epsilon \\{1,2,3\\}$`"
   ]
  },
  {
   "cell_type": "markdown",
   "id": "8afff712",
   "metadata": {},
   "source": [
    "$$f(x, y) = x^2 + y^2, x \\epsilon [0, 100], y \\epsilon \\{1,2,3\\}$$"
   ]
  },
  {
   "cell_type": "markdown",
   "id": "fae35850",
   "metadata": {},
   "source": [
    "**2.** 大括号，需要括号前加\\left和\\right。"
   ]
  },
  {
   "cell_type": "markdown",
   "id": "4393c292",
   "metadata": {},
   "source": [
    "`$(\\sqrt{1 \\over 2})^2$`"
   ]
  },
  {
   "cell_type": "markdown",
   "id": "5a8731fd",
   "metadata": {
    "ExecuteTime": {
     "end_time": "2023-04-02T11:38:11.268921Z",
     "start_time": "2023-04-02T11:38:11.253505Z"
    }
   },
   "source": [
    "$$(\\sqrt{1 \\over 2})^2$$"
   ]
  },
  {
   "cell_type": "markdown",
   "id": "a892e169",
   "metadata": {},
   "source": [
    "加大括号后 `$\\left(\\sqrt{1 \\over 2}\\right)^2$`"
   ]
  },
  {
   "cell_type": "markdown",
   "id": "da631dfc",
   "metadata": {},
   "source": [
    "$$\\left(\\sqrt{1 \\over 2}\\right)^2$$"
   ]
  },
  {
   "cell_type": "markdown",
   "id": "ee94e5b2",
   "metadata": {},
   "source": [
    "**3.** \\left 和 \\right必须成对出现，对于不显示的一边可以使用 . 代替。"
   ]
  },
  {
   "cell_type": "markdown",
   "id": "a4749a79",
   "metadata": {
    "ExecuteTime": {
     "end_time": "2023-04-02T11:41:08.021209Z",
     "start_time": "2023-04-02T11:41:08.002604Z"
    }
   },
   "source": [
    "`$\\frac{du}{dx} | _{x=0}$`"
   ]
  },
  {
   "cell_type": "markdown",
   "id": "275d4a92",
   "metadata": {},
   "source": [
    "$$\\frac{du}{dx} | _{x=0}$$"
   ]
  },
  {
   "cell_type": "markdown",
   "id": "33f87f23",
   "metadata": {},
   "source": [
    " 加大后 `$\\left. \\frac{du}{dx} \\right| _{x=0}$`"
   ]
  },
  {
   "cell_type": "markdown",
   "id": "16145fff",
   "metadata": {},
   "source": [
    "$$\\left. \\frac{du}{dx} \\right| _{x=0}$$"
   ]
  },
  {
   "cell_type": "markdown",
   "id": "d6fc19cb",
   "metadata": {},
   "source": [
    "4. 大括号"
   ]
  },
  {
   "cell_type": "markdown",
   "id": "d8205718",
   "metadata": {
    "ExecuteTime": {
     "end_time": "2023-04-02T11:43:12.281112Z",
     "start_time": "2023-04-02T11:43:12.271779Z"
    }
   },
   "source": [
    "`$y :\\begin{cases} x+y=1\\\\ x-y = 0 \\end{cases}$`"
   ]
  },
  {
   "cell_type": "markdown",
   "id": "1e785b46",
   "metadata": {},
   "source": [
    "$$y :\\begin{cases} x+y=1\\\\ x-y = 0 \\end{cases}$$"
   ]
  },
  {
   "cell_type": "markdown",
   "id": "d922db82",
   "metadata": {},
   "source": [
    "# 向量"
   ]
  },
  {
   "cell_type": "markdown",
   "id": "e6999b49",
   "metadata": {},
   "source": [
    "公式\\vec{a}"
   ]
  },
  {
   "cell_type": "markdown",
   "id": "993291ea",
   "metadata": {
    "ExecuteTime": {
     "end_time": "2023-04-02T12:56:55.354827Z",
     "start_time": "2023-04-02T12:56:55.331375Z"
    }
   },
   "source": [
    "`$\\vec a \\cdot \\vec b = 1$`"
   ]
  },
  {
   "cell_type": "markdown",
   "id": "349f24dd",
   "metadata": {
    "ExecuteTime": {
     "end_time": "2023-04-02T12:57:07.349825Z",
     "start_time": "2023-04-02T12:57:07.342228Z"
    }
   },
   "source": [
    "$$\\vec a \\cdot \\vec b = 1$$"
   ]
  },
  {
   "cell_type": "markdown",
   "id": "fa7b2711",
   "metadata": {},
   "source": [
    "# 定积分"
   ]
  },
  {
   "cell_type": "markdown",
   "id": "c5373568",
   "metadata": {},
   "source": [
    "公式\\int"
   ]
  },
  {
   "cell_type": "markdown",
   "id": "9fa671da",
   "metadata": {},
   "source": [
    "`$\\int_0^1x^2dx$`"
   ]
  },
  {
   "cell_type": "markdown",
   "id": "5f6340df",
   "metadata": {},
   "source": [
    "$$\\int_0^1x^2dx$$"
   ]
  },
  {
   "cell_type": "markdown",
   "id": "4cdd5b44",
   "metadata": {},
   "source": [
    "# 极限"
   ]
  },
  {
   "cell_type": "markdown",
   "id": "84fc451f",
   "metadata": {},
   "source": [
    "公式\\lim_{n\\rightarrow+\\infty}"
   ]
  },
  {
   "cell_type": "markdown",
   "id": "62e6ef8c",
   "metadata": {},
   "source": [
    "`公式\\lim_{n\\rightarrow+\\infty}`"
   ]
  },
  {
   "cell_type": "markdown",
   "id": "1ab5fe95",
   "metadata": {},
   "source": [
    "$$公式\\lim_{n\\rightarrow+\\infty}$$"
   ]
  },
  {
   "cell_type": "markdown",
   "id": "04e7c2e8",
   "metadata": {},
   "source": [
    "`$\\lim_{n\\rightarrow+\\infty}\\frac{1}{n}$`"
   ]
  },
  {
   "cell_type": "markdown",
   "id": "0352667b",
   "metadata": {},
   "source": [
    "$$\\lim_{n\\rightarrow+\\infty}\\frac{1}{n}$$"
   ]
  },
  {
   "cell_type": "markdown",
   "id": "7ce2ae33",
   "metadata": {},
   "source": [
    "# 累加/累乘"
   ]
  },
  {
   "cell_type": "markdown",
   "id": "13b7b61a",
   "metadata": {},
   "source": [
    "公式累加\\sum_1^n, 累乘\\prod_{i=0}^n"
   ]
  },
  {
   "cell_type": "markdown",
   "id": "7c91b166",
   "metadata": {},
   "source": [
    "累加`$\\sum_1^n$`"
   ]
  },
  {
   "cell_type": "markdown",
   "id": "482b9c06",
   "metadata": {},
   "source": [
    "$$\\sum_1^n$$"
   ]
  },
  {
   "cell_type": "markdown",
   "id": "70506fe6",
   "metadata": {},
   "source": [
    "累乘`$\\prod_{i=0}^n$`"
   ]
  },
  {
   "cell_type": "markdown",
   "id": "f6968e6f",
   "metadata": {
    "ExecuteTime": {
     "end_time": "2023-04-02T13:00:40.026811Z",
     "start_time": "2023-04-02T13:00:40.008030Z"
    }
   },
   "source": [
    "$$\\prod_{i=0}^n$$"
   ]
  },
  {
   "cell_type": "markdown",
   "id": "9f223ef4",
   "metadata": {},
   "source": [
    "# 省略号"
   ]
  },
  {
   "cell_type": "markdown",
   "id": "0c0ee297",
   "metadata": {},
   "source": [
    "公式\\ldots 表示底线对其的省略号，\\cdots 表示中线对其的省略号，\\cdot点乘号。"
   ]
  },
  {
   "cell_type": "markdown",
   "id": "b2f15bd1",
   "metadata": {},
   "source": [
    "`$f(x_1,x_2,\\ldots,x_n) = \\left({1 \\over x_1}\\right)^2+\\left({1 \\over x_2}\\right)^2+\\cdots+\\left({1 \\over x_n}\\right)^2$`"
   ]
  },
  {
   "cell_type": "markdown",
   "id": "d3963741",
   "metadata": {},
   "source": [
    "$$f(x_1,x_2,\\ldots,x_n) = \\left({1 \\over x_1}\\right)^2+\\left({1 \\over x_2}\\right)^2+\\cdots+\\left({1 \\over x_n}\\right)^2$$"
   ]
  },
  {
   "cell_type": "markdown",
   "id": "82940113",
   "metadata": {},
   "source": [
    "# 符号"
   ]
  },
  {
   "cell_type": "markdown",
   "id": "78af5a1d",
   "metadata": {},
   "source": [
    "## 数学符号"
   ]
  },
  {
   "cell_type": "markdown",
   "id": "1f31da0e",
   "metadata": {},
   "source": [
    "| 代码 | 符号 | 描述 |\n",
    "| :--------- | :--------: | :--------: |\n",
    "| `$\\not=$` | $$\\not=$$  | 不等于   \n",
    "| `$\\approx$` | $$\\approx$$ | 约等于 |\n",
    "| `$\\leq$` | $$\\leq$$ | 小于等于 |\n",
    "| `$\\geq$` | $$\\geq$$ | 大于等于 |\n",
    "| `$\\times$`| $$\\times$$ | 乘号 |\n",
    "| `$\\pm$` | $$\\pm$$ | 正负号 |\n",
    "| `$\\div$` | $$\\div$$ | 除号 |\n",
    "| `$\\sum\\sum_{i=1}^{n}{x_{i}}$` | $$\\sum_{i=1}^{n}{x_{i}}$$ | 累加 |\n",
    "| `$\\prod_{i=1}^{n}{x_{i}}$` | $$\\prod_{i=1}^{n}{x_{i}}$$ | 累乘 |\n",
    "| `$\\coprod_{i=1}^{n}{x_{i}}$` | $$\\coprod_{i=1}^{n}{x_{i}}$$ | 累除 |\n",
    "| `$\\overline{a+b+c+d}$` | $$\\overline{a+b+c+d}$$ | 平均值 |\n",
    "| -------------------------------- | -------------------------------- | -------------------------------- |"
   ]
  },
  {
   "cell_type": "markdown",
   "id": "7949650a",
   "metadata": {},
   "source": [
    "## 三角函数"
   ]
  },
  {
   "cell_type": "markdown",
   "id": "dbb03dfd",
   "metadata": {},
   "source": [
    "| 代码 | 符号 | 描述 |\n",
    "| :--------- | :--------: | :--------: |\n",
    "| `$A \\bot B$` | $$A \\bot B$$  | 垂直   \n",
    "| `$\\angle A$` | $$\\angle A$$ | 角 |\n",
    "| `$30^\\circ$` | $$30^\\circ$$ | 30度 |\n",
    "| `$\\sin x$` | $$\\sin x$$ | 正弦 |\n",
    "| `$\\cos x$`| $$\\cos x$$ | 余弦 |\n",
    "| `$\\tan x$` | $$\\tan x$$ | 正切 |\n",
    "| `$\\cot x$` | $$\\cot x$$ | 余切 |\n",
    "| `$\\sec x$` | $$\\sec x$$ | 正割 |\n",
    "| `$\\csc x$` | $$\\csc x$$ | 余割 |\n",
    "| -------------------------------- | -------------------------------- | -------------------------------- |"
   ]
  },
  {
   "cell_type": "markdown",
   "id": "5c09f2ed",
   "metadata": {},
   "source": [
    "## 定积分"
   ]
  },
  {
   "cell_type": "markdown",
   "id": "e11bdcba",
   "metadata": {},
   "source": [
    "| 代码 | 符号 | 描述 |\n",
    "| :--------- | :--------: | :--------: |\n",
    "| `$\\infty$` | $$\\infty$$  | 无穷 |  \n",
    "| `$\\int$` | $$\\int$$ | 定积分 |\n",
    "| `$\\iint$` | $$\\iint$$ | 双重积分 |\n",
    "| `$\\iiint$` | $$\\iiint$$ | 三重积分 |\n",
    "| `$\\oint$`| $$\\oint$$ | 曲线积分 |\n",
    "| `$y\\prime$` | $$y\\prime$$ | 求导 |\n",
    "| `$\\lim_{x \\to 0}{x}$` | $$\\lim_{x \\to 0}{x}$$ | 极限 |\n",
    "| -------------------------------- | -------------------------------- | -------------------------------- |"
   ]
  },
  {
   "cell_type": "markdown",
   "id": "a6c23b95",
   "metadata": {},
   "source": [
    "## 集合"
   ]
  },
  {
   "cell_type": "markdown",
   "id": "4175cf52",
   "metadata": {},
   "source": [
    "| 代码 | 符号 | 描述 |\n",
    "| :--------- | :--------: | :--------: |\n",
    "| `$\\emptyset$` | $$\\emptyset$$  | 空集 |   \n",
    "| `$\\in$` | $$\\in$$ | 属于 |\n",
    "| `$\\notin$` | $$\\notin$$ | 不属于 |\n",
    "| `$\\supset$` | $$\\supset$$ | 真包含 |\n",
    "| `$\\supseteqs$`| $$\\supseteq$$ | 包含 |\n",
    "| `$\\bigcap$` | $$\\bigcap$$ | 交集 |\n",
    "| `$\\bigcup$` | $$\\bigcup$$ | 并集 |\n",
    "| `$\\bigvee$` | $$\\bigvee$$ | 或 |\n",
    "| `$\\bigwedge$` | $$\\bigwedge$$ | 与 |\n",
    "| -------------------------------- | -------------------------------- | -------------------------------- |"
   ]
  },
  {
   "cell_type": "markdown",
   "id": "4b6b43a6",
   "metadata": {},
   "source": [
    "## 对数符号"
   ]
  },
  {
   "cell_type": "markdown",
   "id": "ed8aa1ad",
   "metadata": {},
   "source": [
    "| 代码 | 符号 | 描述 |\n",
    "| :--------- | :--------: | :--------: |\n",
    "| `$\\log$` | $$\\log$$ | 正弦 |\n",
    "| `$\\lg$`| $$\\lg$$ | 余弦 |\n",
    "| `$\\ln$` | $$\\ln$$ | 正切 |\n",
    "| ---------------- | ---------------- | ---------------- |"
   ]
  },
  {
   "cell_type": "markdown",
   "id": "26675d5e",
   "metadata": {
    "variables": {
     "1}\\over{n": {}
    }
   },
   "source": [
    "`$log_aM+log_aN=log_a(M\\cdot N).\\tag{1}$`\n",
    "$$log_aM+log_aN=log_a(M\\cdot N).\\tag{1}$$\n",
    "`$log_aM-log_aN=log_a\\dfrac{M}{N}.\\tag{2}$`\n",
    "$$log_aM-log_aN=log_a\\dfrac{M}{N}.\\tag{2}$$\n",
    "`$log_aM^n=nlog_aM.\\tag{3}$`\n",
    "$$log_aM^n=nlog_aM.\\tag{3}$$\n",
    "`$log_{a^n}M=\\dfrac{1}{n}log_aM.\\tag{4}$`\n",
    "$$log_{a^n}M=\\dfrac{1}{n}log_aM.\\tag{4}$$\n",
    "`$log_{a^n}b^m=\\dfrac{m}{n}log_ab.\\tag{5}$`\n",
    "$$log_{a^n}b^m=\\dfrac{m}{n}log_ab.\\tag{5}$$\n",
    "`$a^{log_aN}=N.\\tag{6}$`\n",
    "$$a^{log_aN}=N.\\tag{6}$$\n",
    "`$log_ab=\\dfrac{log_cb}{log_ca}.(换底公式)\\tag{7}$`\n",
    "$$log_ab=\\dfrac{log_cb}{log_ca}.(换底公式)\\tag{7}$$\n",
    "`$log_ab=\\dfrac{1}{log_ba}.(底数与真数互换)\\tag{8}$`\n",
    "$$log_ab=\\dfrac{1}{log_ba}.(底数与真数互换)\\tag{8}$$\n",
    "`$log_a\\sqrt[n]{M}=log_aM^{{1}\\over{n}}=\\dfrac{1}{n}log_aM=log_{a^n}M.\\tag{9}$`\n",
    "$$log_a\\sqrt[n]{M}=log_aM^{{1}\\over{n}}=\\dfrac{1}{n}log_aM=log_{a^n}M.\\tag{9}$$"
   ]
  },
  {
   "cell_type": "markdown",
   "id": "56bcc3f7",
   "metadata": {},
   "source": [
    "## 希腊字母"
   ]
  },
  {
   "cell_type": "markdown",
   "id": "a4d8bb97",
   "metadata": {},
   "source": [
    "| 代码 | 符号 | 代码 | 符号 |\n",
    "| :--------- | :--------: | :--------- | :--------: |\n",
    "| `$\\alpha$` | $$\\alpha$$ | `$\\beta$` | $$\\beta$$ |\n",
    "| `$\\gamma$` | $$\\gamma$$ | `$\\delta$` | $$\\delta$$ |\n",
    "| `$\\epsilon$` | $$\\epsilon$$ | `$\\varepsilon$` | $$\\varepsilon$$ |\n",
    "| `$\\zeta$` | $$\\zeta$$ | `$\\eta$` | $$\\eta$$ |\n",
    "| `$\\theta$` | $$\\theta$$ | `$\\Theta$` | $$\\Theta$$ |\n",
    "| `$\\vartheta$` | $$\\vartheta$$ | `$\\pi$` | $$\\pi$$ |\n",
    "| `$\\phi$` | $$\\phi$$ | `$\\psi$` | $$\\psi$$ |\n",
    "| `$\\Psi$` | $$\\Psi$$ | `$\\omega$` | $$\\omega$$ |\n",
    "| `$\\Omega$` | $$\\Omega$$ | `$\\rho$` | $$\\rho$$ |\n",
    "| `$\\sigma$` | $$\\sigma$$ | `$\\xi$` | $$\\xi$$ |\n",
    "| `$\\mu$` | $$\\mu$$ | `$\\partial$` | $$\\partial$$ |\n",
    "| ---------------- | ---------------- | ---------------- | ---------------- |"
   ]
  },
  {
   "cell_type": "markdown",
   "id": "3f06649b-1b50-4adb-be4d-1a2df3520c26",
   "metadata": {},
   "source": [
    "## 普通箭头"
   ]
  },
  {
   "cell_type": "markdown",
   "id": "f8a71e47-bb5d-4988-86bf-45afad384352",
   "metadata": {},
   "source": [
    "| 代码 | 符号 | 代码 | 符号 |\n",
    "| :--------- | :--------: | :--------- | :--------: |\n",
    "| `$\\uparrow$` | $$\\uparrow$$ | `$\\Uparrow$` | $$\\Uparrow$$ |\n",
    "| `$\\downarrow$` | $$\\downarrow$$ | `$\\Downarrow$` | $$\\Downarrow$$ |\n",
    "| `$\\leftarrow$` | $$\\leftarrow$$ | `$\\Leftarrow$` | $$\\Leftarrow$$ |\n",
    "| `$\\rightarrow$` | $$\\rightarrow$$ | `$\\Rightarrow$` | $$\\Rightarrow$$ |\n",
    "| `$\\updownarrow$` | $$\\updownarrow$$ | `$\\Updownarrow$` | $$\\Updownarrow$$ |\n",
    "| `$\\leftrightarrow$` | $$\\leftrightarrow$$ |  |  |"
   ]
  },
  {
   "cell_type": "markdown",
   "id": "9d392125-0582-4a82-b3b3-8bbc528c25a4",
   "metadata": {},
   "source": [
    "## 长箭头"
   ]
  },
  {
   "cell_type": "markdown",
   "id": "39934244-3cf7-424d-8b78-b3f8445f6109",
   "metadata": {},
   "source": [
    "| 代码 | 符号 | 代码 | 符号 |\n",
    "| :--------- | :--------: | :--------- | :--------: |\n",
    "| `$\\longleftarrow$` | $$\\longleftarrow$$ | `$\\Longleftarrow$` | $$\\Longleftarrow$$ |\n",
    "| `$\\longrightarrow$` | $$\\longrightarrow$$ | `$\\Longrightarrow$` | $$\\Longrightarrow$$ |\n",
    "| `$\\longleftrightarrow$` | $$\\longleftrightarrow$$ | `$\\Longleftrightarrow$` | $$\\Longleftrightarrow$$ |"
   ]
  },
  {
   "cell_type": "markdown",
   "id": "1fd1c15d-83a6-4dbe-a087-5f24c9860e6c",
   "metadata": {},
   "source": [
    "## 其他箭头"
   ]
  },
  {
   "cell_type": "markdown",
   "id": "ebbdb048-6d3d-4b86-bd4a-c02ee67ecea9",
   "metadata": {},
   "source": [
    "| 代码 | 符号 | 代码 | 符号 |\n",
    "| :--------- | :--------: | :--------- | :--------: |\n",
    "| `$\\nLeftarrow$` | $$\\nLeftarrow$$ | `$\\nRightarrow$` | $$\\nRightarrow$$ |\n",
    "| `$\\nLeftrightarrow$` | $$\\nLeftrightarrow$$ | `$\\leftleftarrows$` | $$\\leftleftarrows$$ |\n",
    "| `$\\leftrightarrows$` | $$\\leftrightarrows$$ | `$\\rightleftarrows$` | $$\\rightleftarrows$$ |\n",
    "| `$\\rightleftharpoons$` | $$\\rightleftharpoons$$ | `$\\leftrightharpoons$` | $$\\leftrightharpoons$$ |"
   ]
  },
  {
   "cell_type": "markdown",
   "id": "f0a97e6a-7618-4737-91d7-c9fd39788e74",
   "metadata": {},
   "source": [
    "# 分段函数"
   ]
  },
  {
   "cell_type": "markdown",
   "id": "ca21e005-02d4-4760-bae8-e5659e46442c",
   "metadata": {},
   "source": [
    "`$$f(x) = \\begin{cases}2x,\\,\\,x>0\\\\3x,\\,\\,x\\leq0\\\\\\end{cases}$$`"
   ]
  },
  {
   "cell_type": "markdown",
   "id": "d84bf794-19f8-49d0-9284-68a1bcbf6e80",
   "metadata": {},
   "source": [
    "$$f(x) = \\begin{cases}2x,\\,\\,x>0\\\\3x,\\,\\,x\\leq0\\\\\\end{cases}$$"
   ]
  }
 ],
 "metadata": {
  "kernelspec": {
   "display_name": "Python 3 (ipykernel)",
   "language": "python",
   "name": "python3"
  },
  "language_info": {
   "codemirror_mode": {
    "name": "ipython",
    "version": 3
   },
   "file_extension": ".py",
   "mimetype": "text/x-python",
   "name": "python",
   "nbconvert_exporter": "python",
   "pygments_lexer": "ipython3",
   "version": "3.8.2"
  },
  "toc": {
   "base_numbering": 1,
   "nav_menu": {},
   "number_sections": true,
   "sideBar": true,
   "skip_h1_title": false,
   "title_cell": "Table of Contents",
   "title_sidebar": "Contents",
   "toc_cell": false,
   "toc_position": {
    "height": "calc(100% - 180px)",
    "left": "10px",
    "top": "150px",
    "width": "170.25px"
   },
   "toc_section_display": true,
   "toc_window_display": false
  },
  "varInspector": {
   "cols": {
    "lenName": 16,
    "lenType": 16,
    "lenVar": 40
   },
   "kernels_config": {
    "python": {
     "delete_cmd_postfix": "",
     "delete_cmd_prefix": "del ",
     "library": "var_list.py",
     "varRefreshCmd": "print(var_dic_list())"
    },
    "r": {
     "delete_cmd_postfix": ") ",
     "delete_cmd_prefix": "rm(",
     "library": "var_list.r",
     "varRefreshCmd": "cat(var_dic_list()) "
    }
   },
   "types_to_exclude": [
    "module",
    "function",
    "builtin_function_or_method",
    "instance",
    "_Feature"
   ],
   "window_display": false
  }
 },
 "nbformat": 4,
 "nbformat_minor": 5
}
